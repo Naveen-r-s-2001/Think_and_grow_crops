{
 "cells": [
  {
   "cell_type": "code",
   "execution_count": 11,
   "id": "117b112f",
   "metadata": {},
   "outputs": [],
   "source": [
    "import serial\n",
    "import time"
   ]
  },
  {
   "cell_type": "code",
   "execution_count": null,
   "id": "fdb58066",
   "metadata": {},
   "outputs": [
    {
     "name": "stdout",
     "output_type": "stream",
     "text": [
      "Wish to get data from sensors:yes\n",
      "29.50\n",
      "81.10\n",
      "29.50-81.10\n"
     ]
    }
   ],
   "source": [
    "ser = serial.Serial('COM5',baudrate=9600,timeout=1)\n",
    "data_list = []\n",
    "def getValues():\n",
    "    ser.write(b'g')\n",
    "    arduinoData = ser.readline().decode('ascii')\n",
    "    data_list = arduinoData.split('-')\n",
    "    temp_data = data_list[0]\n",
    "    humidity_data = data_list[1]\n",
    "    print(temp_data)\n",
    "    print(humidity_data)\n",
    "    return arduinoData\n",
    "while 1:\n",
    "    userInput = input('Wish to get data from sensors:')\n",
    "    if userInput == 'yes':\n",
    "        print(getValues())\n",
    "    else:\n",
    "        print('Thank you!')\n",
    "        break"
   ]
  },
  {
   "cell_type": "code",
   "execution_count": null,
   "id": "6101cb16",
   "metadata": {},
   "outputs": [],
   "source": []
  }
 ],
 "metadata": {
  "kernelspec": {
   "display_name": "Python 3",
   "language": "python",
   "name": "python3"
  }
 },
 "nbformat": 4,
 "nbformat_minor": 5
}
