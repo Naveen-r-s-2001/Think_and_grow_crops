{
 "cells": [
  {
   "cell_type": "code",
   "execution_count": 1,
   "id": "5c3636f9",
   "metadata": {},
   "outputs": [],
   "source": [
    "from PIL import Image,ImageTk\n",
    "from tkinter import Tk\n",
    "from tkinter.ttk import Frame,Label"
   ]
  },
  {
   "cell_type": "code",
   "execution_count": 2,
   "id": "b9038250",
   "metadata": {},
   "outputs": [
    {
     "ename": "SyntaxError",
     "evalue": "unexpected EOF while parsing (<ipython-input-2-5d8ee3e218c0>, line 22)",
     "output_type": "error",
     "traceback": [
      "\u001b[1;36m  File \u001b[1;32m\"<ipython-input-2-5d8ee3e218c0>\"\u001b[1;36m, line \u001b[1;32m22\u001b[0m\n\u001b[1;33m    def setgeometry():\u001b[0m\n\u001b[1;37m                      ^\u001b[0m\n\u001b[1;31mSyntaxError\u001b[0m\u001b[1;31m:\u001b[0m unexpected EOF while parsing\n"
     ]
    }
   ],
   "source": [
    "class Simple(Frame):\n",
    "    def __init__(self):\n",
    "        super.__init__()\n",
    "        self.loadimage()\n",
    "        self.userinterface()\n",
    "    \n",
    "    def loadimage(self):\n",
    "        try:\n",
    "            self.img = Image.open(r\"C:\\Users\\NAVEEN\\OneDrive\\Pictures\\wallpapers\\203564.jpg\")\n",
    "        except IOError:\n",
    "            print(\"unable to load image\")\n",
    "            sys.exit(1)\n",
    "    def userinterface(self):\n",
    "        self.master.title('Bird')\n",
    "        t = ImageTk.PhotoImage(self.img)\n",
    "        l - Label(self,image = t)\n",
    "        \n",
    "        l.image = t\n",
    "        l.pack()\n",
    "        self.pack()\n",
    "        \n",
    "    def setgeometry():\n",
    "        "
   ]
  },
  {
   "cell_type": "code",
   "execution_count": null,
   "id": "21974aea",
   "metadata": {},
   "outputs": [],
   "source": []
  }
 ],
 "metadata": {
  "kernelspec": {
   "display_name": "Python 3",
   "language": "python",
   "name": "python3"
  },
  "language_info": {
   "codemirror_mode": {
    "name": "ipython",
    "version": 3
   },
   "file_extension": ".py",
   "mimetype": "text/x-python",
   "name": "python",
   "nbconvert_exporter": "python",
   "pygments_lexer": "ipython3",
   "version": "3.8.8"
  }
 },
 "nbformat": 4,
 "nbformat_minor": 5
}
